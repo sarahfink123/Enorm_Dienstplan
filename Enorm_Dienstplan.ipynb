{
 "cells": [
  {
   "cell_type": "markdown",
   "metadata": {},
   "source": [
    "# Enorm Dienstplan automatisiert erstellen"
   ]
  },
  {
   "cell_type": "markdown",
   "metadata": {},
   "source": [
    "## 0. Import libraries and data"
   ]
  },
  {
   "cell_type": "code",
   "execution_count": 4,
   "metadata": {},
   "outputs": [],
   "source": [
    "import numpy as np\n",
    "import pandas as pd\n"
   ]
  },
  {
   "cell_type": "code",
   "execution_count": 12,
   "metadata": {},
   "outputs": [
    {
     "name": "stdout",
     "output_type": "stream",
     "text": [
      "<class 'pandas.core.frame.DataFrame'>\n",
      "RangeIndex: 19 entries, 0 to 18\n",
      "Data columns (total 2 columns):\n",
      " #   Column             Non-Null Count  Dtype\n",
      "---  ------             --------------  -----\n",
      " 0   Mitarbeitenden_ID  19 non-null     int64\n",
      " 1   Wochenstunden      19 non-null     int64\n",
      "dtypes: int64(2)\n",
      "memory usage: 432.0 bytes\n"
     ]
    }
   ],
   "source": [
    "mitarbeitende_df = pd.read_csv('data/Input_Daten_Dienstplan - Mitarbeitende.csv')\n",
    "wochenstunden_df = pd.read_csv('data/Input_Daten_Dienstplan - Wochenstunden.csv')\n",
    "wochenstunden_df.head()\n",
    "wochenstunden_df.info()"
   ]
  },
  {
   "cell_type": "markdown",
   "metadata": {},
   "source": [
    "## 1. Create simple Dienstplan"
   ]
  },
  {
   "cell_type": "markdown",
   "metadata": {},
   "source": [
    "Create a dataframe with 8 hour slots ('Schichten') in a 24 hour day for a 30 days month where from the dataframe wochenstunden_df each employee ('Mitarbeitenden_ID') is randomly spread into the 'Schichten' and they have at least 11 hours breaks between their 'Schichten' and they are close to working their number of working hours per week ('Wochenstunden') found in wochenstunden_df. "
   ]
  },
  {
   "cell_type": "code",
   "execution_count": 35,
   "metadata": {},
   "outputs": [
    {
     "name": "stdout",
     "output_type": "stream",
     "text": [
      "        date slot_type employee_id\n",
      "0 2024-04-01   morning         117\n",
      "1 2024-04-01    midday         102\n",
      "2 2024-04-01   evening         104\n",
      "3 2024-04-01     night         116\n",
      "4 2024-04-02   morning         109\n"
     ]
    }
   ],
   "source": [
    "import pandas as pd\n",
    "import numpy as np\n",
    "\n",
    "# Load employee and working hours data\n",
    "mitarbeitende_df = pd.read_csv('data/Input_Daten_Dienstplan - Mitarbeitende.csv')\n",
    "wochenstunden_df = pd.read_csv('data/Input_Daten_Dienstplan - Wochenstunden.csv')\n",
    "\n",
    "# Define parameters\n",
    "num_days = 30\n",
    "slot_types = ['morning', 'midday', 'evening', 'night']\n",
    "hours_of_slot = 8\n",
    "\n",
    "# Generate dates\n",
    "dates = pd.date_range(start='2024-04-01', periods=num_days)\n",
    "dates_repeated = [date for date in dates for _ in slot_types]\n",
    "\n",
    "# Create Dienstplan DataFrame\n",
    "Dienstplan_df = pd.DataFrame({'date': dates_repeated, 'slot_type': slot_types * num_days})\n",
    "\n",
    "# Add additional column 'employee_id'\n",
    "Dienstplan_df['employee_id'] = ''\n",
    "\n",
    "# Randomly assign employees to slots\n",
    "for index, row in Dienstplan_df.iterrows():\n",
    "    # Select random employee ID\n",
    "    random_employee_id = np.random.choice(mitarbeitende_df['Mitarbeitenden_ID'])\n",
    "    Dienstplan_df.at[index, 'employee_id'] = random_employee_id\n",
    "\n",
    "# Display the head of Dienstplan_df\n",
    "print(Dienstplan_df.head())\n"
   ]
  },
  {
   "cell_type": "code",
   "execution_count": null,
   "metadata": {},
   "outputs": [],
   "source": []
  }
 ],
 "metadata": {
  "kernelspec": {
   "display_name": "Python 3",
   "language": "python",
   "name": "python3"
  },
  "language_info": {
   "codemirror_mode": {
    "name": "ipython",
    "version": 3
   },
   "file_extension": ".py",
   "mimetype": "text/x-python",
   "name": "python",
   "nbconvert_exporter": "python",
   "pygments_lexer": "ipython3",
   "version": "3.10.6"
  }
 },
 "nbformat": 4,
 "nbformat_minor": 2
}
